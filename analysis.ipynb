{
 "cells": [
  {
   "attachments": {},
   "cell_type": "markdown",
   "metadata": {},
   "source": [
    "# GOOGLE DATA ANALYTICS CAPSTONE PROJECT - PYTHON\n",
    "\n",
    "### Case Study: How Does a Bike-Share Navigate Speedy Success? \n",
    "**by Jayesh Suryawanshi**"
   ]
  },
  {
   "attachments": {},
   "cell_type": "markdown",
   "metadata": {},
   "source": [
    "### INTRODUCTION\n",
    "\n",
    "Welcome to the Cyclistic bike-share analysis case study! In this case study, you will perform many real-world tasks of a junior\n",
    "data analyst. You will work for a fictional company, Cyclistic, and meet different characters and team members. In order to\n",
    "answer the key business questions, you will follow the steps of the data analysis process: ask, prepare, process, analyze,\n",
    "share, and act. Along the way, the Case Study Roadmap tables — including guiding questions and key tasks — will help you\n",
    "stay on the right path.  \n",
    "By the end of this lesson, you will have a portfolio-ready case study. Download the packet and reference the details of this\n",
    "case study anytime. Then, when you begin your job hunt, your case study will be a tangible way to demonstrate your\n",
    "knowledge and skills to potential employers.\n",
    "\n",
    "### SCENARIO\n",
    "\n",
    "You are a junior data analyst working in the marketing analyst team at Cyclistic, a bike-share company in Chicago. The director\n",
    "of marketing believes the company’s future success depends on maximizing the number of annual memberships. Therefore,\n",
    "your team wants to understand how casual riders and annual members use Cyclistic bikes differently. From these insights,\n",
    "your team will design a new marketing strategy to convert casual riders into annual members. But first, Cyclistic executives\n",
    "must approve your recommendations, so they must be backed up with compelling data insights and professional data\n",
    "visualizations.\n",
    "\n",
    "### CHARACTERS AND TEAMS\n",
    "\n",
    "● Cyclistic: A bike-share program that features more than 5,800 bicycles and 600 docking stations. Cyclistic sets itself\n",
    "apart by also offering reclining bikes, hand tricycles, and cargo bikes, making bike-share more inclusive to people with\n",
    "disabilities and riders who can’t use a standard two-wheeled bike. The majority of riders opt for traditional bikes; about\n",
    "8% of riders use the assistive options. Cyclistic users are more likely to ride for leisure, but about 30% use them to\n",
    "commute to work each day.\n",
    "\n",
    "● Lily Moreno: The director of marketing and your manager. Moreno is responsible for the development of campaigns\n",
    "and initiatives to promote the bike-share program. These may include email, social media, and other channels.\n",
    "\n",
    "● Cyclistic marketing analytics team: A team of data analysts who are responsible for collecting, analyzing, and\n",
    "reporting data that helps guide Cyclistic marketing strategy. You joined this team six months ago and have been busy\n",
    "learning about Cyclistic’s mission and business goals — as well as how you, as a junior data analyst, can help Cyclistic\n",
    "achieve them.\n",
    "\n",
    "● Cyclistic executive team: The notoriously detail-oriented executive team will decide whether to approve the\n",
    "recommended marketing program.\n",
    "\n",
    "### ABOUT THE COMPANY\n",
    "\n",
    "In 2016, Cyclistic launched a successful bike-share offering. Since then, the program has grown to a fleet of 5,824 bicycles that\n",
    "are geotracked and locked into a network of 692 stations across Chicago. The bikes can be unlocked from one station and\n",
    "returned to any other station in the system anytime.  \n",
    "\n",
    "Until now, Cyclistic’s marketing strategy relied on building general awareness and appealing to broad consumer segments.\n",
    "One approach that helped make these things possible was the flexibility of its pricing plans: single-ride passes, full-day passes,\n",
    "and annual memberships. Customers who purchase single-ride or full-day passes are referred to as casual riders. Customers\n",
    "who purchase annual memberships are Cyclistic members.  \n",
    "\n",
    "Cyclistic’s finance analysts have concluded that annual members are much more profitable than casual riders. Although the\n",
    "pricing flexibility helps Cyclistic attract more customers, Moreno believes that maximizing the number of annual members will\n",
    "be key to future growth. Rather than creating a marketing campaign that targets all-new customers, Moreno believes there is a\n",
    "very good chance to convert casual riders into members. She notes that casual riders are already aware of the Cyclistic\n",
    "program and have chosen Cyclistic for their mobility needs.  \n",
    "\n",
    "Moreno has set a clear goal: Design marketing strategies aimed at converting casual riders into annual members. In order to\n",
    "do that, however, the marketing analyst team needs to better understand how annual members and casual riders differ, why\n",
    "casual riders would buy a membership, and how digital media could affect their marketing tactics. Moreno and her team are\n",
    "interested in analyzing the Cyclistic historical bike trip data to identify trends."
   ]
  },
  {
   "attachments": {},
   "cell_type": "markdown",
   "metadata": {},
   "source": [
    "### **STEP 1: ASK**\n",
    "In this step, the problem and objectives of our case study and its desired outcome are stated."
   ]
  },
  {
   "attachments": {},
   "cell_type": "markdown",
   "metadata": {},
   "source": [
    "##### **Business Task:**\n",
    "\n",
    "Analyze Cyclistic historical bike trip data to gain insights into how annual members and casual riders differ in their usage of Cyclistic bikes.\n",
    "\n",
    "##### **Business Objective:**\n",
    "\n",
    "Three questions will guide the future marketing program:  \n",
    "•\tHow do annual members and casual riders use Cyclistic bikes differently?  \n",
    "•\tWhy would casual riders buy Cyclistic annual memberships?  \n",
    "•\tHow can Cyclistic use digital media to influence casual riders to become members?  \n",
    "\n",
    "Assigned question to answer: How do annual members and casual riders use Cyclistic bikes differently?\n",
    "\n",
    "##### **Deliverables:**  \n",
    "•\tA clear statement of the business task  \n",
    "•\tA description of all data sources used  \n",
    "•\tDocumentation of any cleaning or manipulation of data  \n",
    "•\tA summary of your analysis  \n",
    "•\tSupporting visualizations and key findings  \n",
    "•\tYour top three recommendations based on your analysis  \n",
    "\n",
    "##### **Key Stakeholders:**\n",
    "\n",
    "•\tLily Moreno: The director of marketing and manager.  \n",
    "•\tCyclistic marketing analytics team: A team of data analysts that helps guide Cyclistic marketing strategy.  \n",
    "•\tCyclistic executive team: The detail-oriented executive team. \n",
    "\n",
    " \n",
    "\n"
   ]
  },
  {
   "attachments": {},
   "cell_type": "markdown",
   "metadata": {},
   "source": [
    "### **STEP 2: PREPARE**\n",
    "\n",
    "In the Prepare phase, we check the data being used and its limitations.\n",
    "\n",
    "##### **Information on Data Source**\n",
    "\n",
    "•\tLyft Bikes and Scooters, LLC (“Bikeshare”) operates the City of Chicago’s (“City”) Divvy bicycle sharing service.  \n",
    "•\tBikeshare and the City are committed to supporting bicycling as an alternative transportation option and as part of that commitment, the    City permits Bikeshare to make certain Divvy system data owned by the City (“Data”) available to the public.  \n",
    "•\tThe Data source consists of ride data from 2013 till May 2023 as of the publishing date for this case study.  \n",
    "•\tIt is a constantly updating data source.\n",
    "•\tThe Data used for this case study includes data for the past 12 months from June 2022 to May 2023.  \n",
    "•\tIt includes information on the ride type used, ride start and end date/timestamps, station ids, names, latitudes, longitudes and type of members.\n",
    "\n",
    "##### **Is the Data ROCCC?**\n",
    "A good data source is ROCCC which stands for Reliable, Original, Comprehensive, Current, and Cited.\n",
    "\n",
    "Reliable — HIGH — The data is reliable as it consists of data for the past 12 months for millions of rides.\n",
    "\n",
    "Original — LOW — Third party provider (Motivate International Inc.)\n",
    "\n",
    "Comprehensive — HIGH — Allows one to explore how different customer types are using Cyclistic bikes and parameters match Cyclistic's required paraemeters\n",
    "\n",
    "Current — HIGH — Data is up to date till the last month (and is frequently updated) as of the date of publishing this case study.\n",
    "\n",
    "Cited — HIGH — Data is cited under this [data license agreement ](https://ride.divvybikes.com/data-license-agreement)\n",
    "\n",
    "Overall, the dataset is considered to be of good quality and it can be recommended to produce business recommendations based on it.\n",
    "\n",
    "\n",
    "##### **Data Selection:**\n",
    "\n",
    "We are using 12 separate csv files that each represent one month of data from June 2022 to May 2023.  \n",
    "\n",
    "They are intially imported and merged into a single file called - *combined_data.csv* and into another file called - *combined_data_final.csv* post cleaning and manipulation.\n",
    "\n",
    "\n",
    "##### **Tool Used:**  \n",
    "Python (For Data understanding, data cleaning & manipulation, Data analysis & visualization)"
   ]
  },
  {
   "attachments": {},
   "cell_type": "markdown",
   "metadata": {},
   "source": [
    "### **STEP 3: PROCESS**\n",
    "\n",
    "Preparing the environment - Import all the required libraries and modules"
   ]
  },
  {
   "cell_type": "code",
   "execution_count": 1,
   "metadata": {},
   "outputs": [],
   "source": [
    "import pandas as pd\n",
    "import numpy as np\n",
    "import matplotlib.pyplot as plt\n",
    "import seaborn as sns\n",
    "import string\n",
    "import re\n",
    "from datetime import datetime\n",
    "import calendar\n",
    "import time\n",
    "import os"
   ]
  },
  {
   "attachments": {},
   "cell_type": "markdown",
   "metadata": {},
   "source": [
    "Import the 12 files to create a dataframe and merge them into a single file"
   ]
  },
  {
   "cell_type": "code",
   "execution_count": 2,
   "metadata": {},
   "outputs": [],
   "source": [
    "path = \"./Data\"\n",
    "files = [file for file in os.listdir(path) if not file.startswith('.')] # Ignore hidden files\n",
    "\n",
    "df = pd.DataFrame()\n",
    "\n",
    "for file in files:\n",
    "    current_data = pd.read_csv(path+\"/\"+file)\n",
    "    df = pd.concat([df, current_data])\n",
    "\n",
    "    \n",
    "df.to_csv(\"combined_data.csv\", index=False)"
   ]
  },
  {
   "attachments": {},
   "cell_type": "markdown",
   "metadata": {},
   "source": [
    "Steps to understand the data"
   ]
  },
  {
   "cell_type": "code",
   "execution_count": 3,
   "metadata": {},
   "outputs": [
    {
     "data": {
      "text/html": [
       "<div>\n",
       "<style scoped>\n",
       "    .dataframe tbody tr th:only-of-type {\n",
       "        vertical-align: middle;\n",
       "    }\n",
       "\n",
       "    .dataframe tbody tr th {\n",
       "        vertical-align: top;\n",
       "    }\n",
       "\n",
       "    .dataframe thead th {\n",
       "        text-align: right;\n",
       "    }\n",
       "</style>\n",
       "<table border=\"1\" class=\"dataframe\">\n",
       "  <thead>\n",
       "    <tr style=\"text-align: right;\">\n",
       "      <th></th>\n",
       "      <th>ride_id</th>\n",
       "      <th>rideable_type</th>\n",
       "      <th>started_at</th>\n",
       "      <th>ended_at</th>\n",
       "      <th>start_station_name</th>\n",
       "      <th>start_station_id</th>\n",
       "      <th>end_station_name</th>\n",
       "      <th>end_station_id</th>\n",
       "      <th>start_lat</th>\n",
       "      <th>start_lng</th>\n",
       "      <th>end_lat</th>\n",
       "      <th>end_lng</th>\n",
       "      <th>member_casual</th>\n",
       "    </tr>\n",
       "  </thead>\n",
       "  <tbody>\n",
       "    <tr>\n",
       "      <th>0</th>\n",
       "      <td>EC2DE40644C6B0F4</td>\n",
       "      <td>classic_bike</td>\n",
       "      <td>2022-05-23 23:06:58</td>\n",
       "      <td>2022-05-23 23:40:19</td>\n",
       "      <td>Wabash Ave &amp; Grand Ave</td>\n",
       "      <td>TA1307000117</td>\n",
       "      <td>Halsted St &amp; Roscoe St</td>\n",
       "      <td>TA1309000025</td>\n",
       "      <td>41.891466</td>\n",
       "      <td>-87.626761</td>\n",
       "      <td>41.943670</td>\n",
       "      <td>-87.648950</td>\n",
       "      <td>member</td>\n",
       "    </tr>\n",
       "    <tr>\n",
       "      <th>1</th>\n",
       "      <td>1C31AD03897EE385</td>\n",
       "      <td>classic_bike</td>\n",
       "      <td>2022-05-11 08:53:28</td>\n",
       "      <td>2022-05-11 09:31:22</td>\n",
       "      <td>DuSable Lake Shore Dr &amp; Monroe St</td>\n",
       "      <td>13300</td>\n",
       "      <td>Field Blvd &amp; South Water St</td>\n",
       "      <td>15534</td>\n",
       "      <td>41.880958</td>\n",
       "      <td>-87.616743</td>\n",
       "      <td>41.886349</td>\n",
       "      <td>-87.617517</td>\n",
       "      <td>member</td>\n",
       "    </tr>\n",
       "    <tr>\n",
       "      <th>2</th>\n",
       "      <td>1542FBEC830415CF</td>\n",
       "      <td>classic_bike</td>\n",
       "      <td>2022-05-26 18:36:28</td>\n",
       "      <td>2022-05-26 18:58:18</td>\n",
       "      <td>Clinton St &amp; Madison St</td>\n",
       "      <td>TA1305000032</td>\n",
       "      <td>Wood St &amp; Milwaukee Ave</td>\n",
       "      <td>13221</td>\n",
       "      <td>41.882242</td>\n",
       "      <td>-87.641066</td>\n",
       "      <td>41.907655</td>\n",
       "      <td>-87.672552</td>\n",
       "      <td>member</td>\n",
       "    </tr>\n",
       "    <tr>\n",
       "      <th>3</th>\n",
       "      <td>6FF59852924528F8</td>\n",
       "      <td>classic_bike</td>\n",
       "      <td>2022-05-10 07:30:07</td>\n",
       "      <td>2022-05-10 07:38:49</td>\n",
       "      <td>Clinton St &amp; Madison St</td>\n",
       "      <td>TA1305000032</td>\n",
       "      <td>Clark St &amp; Randolph St</td>\n",
       "      <td>TA1305000030</td>\n",
       "      <td>41.882242</td>\n",
       "      <td>-87.641066</td>\n",
       "      <td>41.884576</td>\n",
       "      <td>-87.631890</td>\n",
       "      <td>member</td>\n",
       "    </tr>\n",
       "    <tr>\n",
       "      <th>4</th>\n",
       "      <td>483C52CAAE12E3AC</td>\n",
       "      <td>classic_bike</td>\n",
       "      <td>2022-05-10 17:31:56</td>\n",
       "      <td>2022-05-10 17:36:57</td>\n",
       "      <td>Clinton St &amp; Madison St</td>\n",
       "      <td>TA1305000032</td>\n",
       "      <td>Morgan St &amp; Lake St</td>\n",
       "      <td>TA1306000015</td>\n",
       "      <td>41.882242</td>\n",
       "      <td>-87.641066</td>\n",
       "      <td>41.885779</td>\n",
       "      <td>-87.651025</td>\n",
       "      <td>member</td>\n",
       "    </tr>\n",
       "  </tbody>\n",
       "</table>\n",
       "</div>"
      ],
      "text/plain": [
       "            ride_id rideable_type           started_at             ended_at  \\\n",
       "0  EC2DE40644C6B0F4  classic_bike  2022-05-23 23:06:58  2022-05-23 23:40:19   \n",
       "1  1C31AD03897EE385  classic_bike  2022-05-11 08:53:28  2022-05-11 09:31:22   \n",
       "2  1542FBEC830415CF  classic_bike  2022-05-26 18:36:28  2022-05-26 18:58:18   \n",
       "3  6FF59852924528F8  classic_bike  2022-05-10 07:30:07  2022-05-10 07:38:49   \n",
       "4  483C52CAAE12E3AC  classic_bike  2022-05-10 17:31:56  2022-05-10 17:36:57   \n",
       "\n",
       "                  start_station_name start_station_id  \\\n",
       "0             Wabash Ave & Grand Ave     TA1307000117   \n",
       "1  DuSable Lake Shore Dr & Monroe St            13300   \n",
       "2            Clinton St & Madison St     TA1305000032   \n",
       "3            Clinton St & Madison St     TA1305000032   \n",
       "4            Clinton St & Madison St     TA1305000032   \n",
       "\n",
       "              end_station_name end_station_id  start_lat  start_lng  \\\n",
       "0       Halsted St & Roscoe St   TA1309000025  41.891466 -87.626761   \n",
       "1  Field Blvd & South Water St          15534  41.880958 -87.616743   \n",
       "2      Wood St & Milwaukee Ave          13221  41.882242 -87.641066   \n",
       "3       Clark St & Randolph St   TA1305000030  41.882242 -87.641066   \n",
       "4          Morgan St & Lake St   TA1306000015  41.882242 -87.641066   \n",
       "\n",
       "     end_lat    end_lng member_casual  \n",
       "0  41.943670 -87.648950        member  \n",
       "1  41.886349 -87.617517        member  \n",
       "2  41.907655 -87.672552        member  \n",
       "3  41.884576 -87.631890        member  \n",
       "4  41.885779 -87.651025        member  "
      ]
     },
     "execution_count": 3,
     "metadata": {},
     "output_type": "execute_result"
    }
   ],
   "source": [
    "df.head()         #This step returns the first 5 rows of the dataframe"
   ]
  },
  {
   "cell_type": "code",
   "execution_count": 4,
   "metadata": {},
   "outputs": [
    {
     "name": "stdout",
     "output_type": "stream",
     "text": [
      "<class 'pandas.core.frame.DataFrame'>\n",
      "Int64Index: 5859061 entries, 0 to 426589\n",
      "Data columns (total 13 columns):\n",
      " #   Column              Dtype  \n",
      "---  ------              -----  \n",
      " 0   ride_id             object \n",
      " 1   rideable_type       object \n",
      " 2   started_at          object \n",
      " 3   ended_at            object \n",
      " 4   start_station_name  object \n",
      " 5   start_station_id    object \n",
      " 6   end_station_name    object \n",
      " 7   end_station_id      object \n",
      " 8   start_lat           float64\n",
      " 9   start_lng           float64\n",
      " 10  end_lat             float64\n",
      " 11  end_lng             float64\n",
      " 12  member_casual       object \n",
      "dtypes: float64(4), object(9)\n",
      "memory usage: 625.8+ MB\n"
     ]
    }
   ],
   "source": [
    "df.info()       #Provides a bried information including number of non null values, data types of each column, etc."
   ]
  },
  {
   "attachments": {},
   "cell_type": "markdown",
   "metadata": {},
   "source": [
    "Checking for null or missiing values in the dataset"
   ]
  },
  {
   "cell_type": "code",
   "execution_count": 5,
   "metadata": {},
   "outputs": [
    {
     "data": {
      "text/plain": [
       "ride_id                    0\n",
       "rideable_type              0\n",
       "started_at                 0\n",
       "ended_at                   0\n",
       "start_station_name    832009\n",
       "start_station_id      832141\n",
       "end_station_name      889661\n",
       "end_station_id        889802\n",
       "start_lat                  0\n",
       "start_lng                  0\n",
       "end_lat                 5973\n",
       "end_lng                 5973\n",
       "member_casual              0\n",
       "dtype: int64"
      ]
     },
     "execution_count": 5,
     "metadata": {},
     "output_type": "execute_result"
    }
   ],
   "source": [
    "df.isna().sum()"
   ]
  },
  {
   "attachments": {},
   "cell_type": "markdown",
   "metadata": {},
   "source": [
    "Checking for duplicate values present in the dataset"
   ]
  },
  {
   "cell_type": "code",
   "execution_count": 19,
   "metadata": {},
   "outputs": [
    {
     "data": {
      "text/plain": [
       "0"
      ]
     },
     "execution_count": 19,
     "metadata": {},
     "output_type": "execute_result"
    }
   ],
   "source": [
    "df.duplicated().sum()  "
   ]
  },
  {
   "cell_type": "code",
   "execution_count": 20,
   "metadata": {},
   "outputs": [
    {
     "data": {
      "text/plain": [
       "5859061"
      ]
     },
     "execution_count": 20,
     "metadata": {},
     "output_type": "execute_result"
    }
   ],
   "source": [
    "#to find number of unique ride_ids\n",
    "\n",
    "df.ride_id.nunique() "
   ]
  },
  {
   "attachments": {},
   "cell_type": "markdown",
   "metadata": {},
   "source": [
    "**Findings from the above steps -**  \n",
    "\n",
    "• There are a total of 5859061 rows and 13 columns  \n",
    "• The data is unique for each ride  \n",
    "• The columns 'started_at' and 'ended_at' should have the data type - datetime64 but is instead object type  \n",
    "• There is a lot of missing data in the start_station_name, end_station_name, start_station_id, end_station_id, end_lat and end_long columns.\n",
    "\n",
    "**Our next steps will include -**  \n",
    "\n",
    "•   Converting the data type for 'started_at' and 'ended_at' columns to datetime64  \n",
    "•   Creating a new column called 'same_day_ride' indicating whether the ride was completed on the same day or not  \n",
    "•   Creating a ride duration column to indicate how long each ride was  \n",
    "•   Dealing with missing data depending on the requirements  \n",
    "•   Rearranging/ renaming columns to make it easier to read the dataframe"
   ]
  },
  {
   "cell_type": "code",
   "execution_count": 90,
   "metadata": {},
   "outputs": [
    {
     "data": {
      "text/plain": [
       "ride_id                       object\n",
       "rideable_type                 object\n",
       "started_at            datetime64[ns]\n",
       "ended_at              datetime64[ns]\n",
       "start_station_name            object\n",
       "start_station_id              object\n",
       "end_station_name              object\n",
       "end_station_id                object\n",
       "start_lat                    float64\n",
       "start_lng                    float64\n",
       "end_lat                      float64\n",
       "end_lng                      float64\n",
       "member_casual                 object\n",
       "dtype: object"
      ]
     },
     "execution_count": 90,
     "metadata": {},
     "output_type": "execute_result"
    }
   ],
   "source": [
    "#Converting the data type to datetime\n",
    "\n",
    "df.started_at = pd.to_datetime(df.started_at)\n",
    "df.ended_at = pd.to_datetime(df.ended_at)\n",
    "df.dtypes"
   ]
  },
  {
   "attachments": {},
   "cell_type": "markdown",
   "metadata": {},
   "source": [
    "The following step indicates how many rides were completed on the same day as they started"
   ]
  },
  {
   "cell_type": "code",
   "execution_count": 7,
   "metadata": {},
   "outputs": [
    {
     "data": {
      "text/plain": [
       "5825337"
      ]
     },
     "execution_count": 7,
     "metadata": {},
     "output_type": "execute_result"
    }
   ],
   "source": [
    "(df.started_at.astype('string').str[:-9] == df.ended_at.astype('string').str[:-9]).sum()    #same day rides"
   ]
  },
  {
   "attachments": {},
   "cell_type": "markdown",
   "metadata": {},
   "source": [
    "The following step indicates how many rides were not completed on the same day as they started"
   ]
  },
  {
   "cell_type": "code",
   "execution_count": 33,
   "metadata": {},
   "outputs": [
    {
     "data": {
      "text/plain": [
       "33724"
      ]
     },
     "execution_count": 33,
     "metadata": {},
     "output_type": "execute_result"
    }
   ],
   "source": [
    "df.shape[0] - (df.started_at.astype('string').str[:-9] == df.ended_at.astype('string').str[:-9]).sum()  #different day rides"
   ]
  },
  {
   "attachments": {},
   "cell_type": "markdown",
   "metadata": {},
   "source": [
    "In the next step we copy our dataframe into a new one and drop the null values"
   ]
  },
  {
   "cell_type": "code",
   "execution_count": 8,
   "metadata": {},
   "outputs": [],
   "source": [
    "df2 = df.copy()     \n",
    "df2.dropna(inplace=True)\n",
    "df2.reset_index(inplace=True,drop=True)"
   ]
  },
  {
   "cell_type": "code",
   "execution_count": 35,
   "metadata": {},
   "outputs": [
    {
     "data": {
      "text/plain": [
       "(4533999, 13)"
      ]
     },
     "execution_count": 35,
     "metadata": {},
     "output_type": "execute_result"
    }
   ],
   "source": [
    "df2.shape   "
   ]
  },
  {
   "attachments": {},
   "cell_type": "markdown",
   "metadata": {},
   "source": [
    "In the following steps, we create a column to indicate the day of the week when the ride started and we create another column to indicate whether the ride was completed on the same day."
   ]
  },
  {
   "cell_type": "code",
   "execution_count": null,
   "metadata": {},
   "outputs": [],
   "source": [
    "#Weekday of the start_time new column\n",
    "\n",
    "\n",
    "df2['start_weekday'] = df2['started_at']\n",
    "for i,row in df2.iterrows():\n",
    "    x = datetime.strptime(str(row['started_at'])[:-9], '%Y-%m-%d').weekday()\n",
    "    df2.at[i,'start_weekday'] = calendar.day_name[x]"
   ]
  },
  {
   "cell_type": "code",
   "execution_count": 43,
   "metadata": {},
   "outputs": [],
   "source": [
    "df2['same_day_ride'] = \"No\"\n",
    "for index, row in df2.iterrows():\n",
    "    if str(row['started_at'])[:-9] == str(row['ended_at'])[:-9]:\n",
    "        df2.at[index, 'same_day_ride'] = 'Yes'\n"
   ]
  },
  {
   "attachments": {},
   "cell_type": "markdown",
   "metadata": {},
   "source": [
    "Checking whether the new column was properly created and how many rides were completed on the same day and how many were not"
   ]
  },
  {
   "cell_type": "code",
   "execution_count": 91,
   "metadata": {},
   "outputs": [
    {
     "data": {
      "text/plain": [
       "0    Yes\n",
       "1    Yes\n",
       "2    Yes\n",
       "3    Yes\n",
       "4    Yes\n",
       "Name: same_day_ride, dtype: object"
      ]
     },
     "execution_count": 91,
     "metadata": {},
     "output_type": "execute_result"
    }
   ],
   "source": [
    "df2.same_day_ride.head()"
   ]
  },
  {
   "cell_type": "code",
   "execution_count": 44,
   "metadata": {},
   "outputs": [
    {
     "data": {
      "text/plain": [
       "Yes    4512102\n",
       "No       21897\n",
       "Name: same_day_ride, dtype: int64"
      ]
     },
     "execution_count": 44,
     "metadata": {},
     "output_type": "execute_result"
    }
   ],
   "source": [
    "df2.same_day_ride.value_counts()"
   ]
  },
  {
   "attachments": {},
   "cell_type": "markdown",
   "metadata": {},
   "source": [
    "In the next step, we drop the rows where the time when the ride ends is smaller than time when the ride started as this is not possible and will affect the calculations ahead"
   ]
  },
  {
   "cell_type": "code",
   "execution_count": 47,
   "metadata": {},
   "outputs": [],
   "source": [
    "#Drop the rows where the arrival time is less than start time\n",
    "\n",
    "for i, row in df2.iterrows():       \n",
    "    if row['started_at']>row['ended_at']:\n",
    "        df2.drop(i,inplace=True)\n",
    "\n",
    "    "
   ]
  },
  {
   "cell_type": "code",
   "execution_count": 48,
   "metadata": {},
   "outputs": [],
   "source": [
    "#Since we drop rows index gets affected so we reset it\n",
    "\n",
    "df2.reset_index(inplace=True,drop=True)     "
   ]
  },
  {
   "cell_type": "code",
   "execution_count": 49,
   "metadata": {},
   "outputs": [
    {
     "data": {
      "text/plain": [
       "(4533929, 15)"
      ]
     },
     "execution_count": 49,
     "metadata": {},
     "output_type": "execute_result"
    }
   ],
   "source": [
    "df2.shape"
   ]
  },
  {
   "attachments": {},
   "cell_type": "markdown",
   "metadata": {},
   "source": [
    "The number of rows reduced from 4533999 to 4533929 which indicates there were 70 such rows where end time was smaller than start time"
   ]
  },
  {
   "attachments": {},
   "cell_type": "markdown",
   "metadata": {},
   "source": [
    "In the next step, we create a new column called **ride_duration** which indicates ride length in the format hh:mm::ss"
   ]
  },
  {
   "cell_type": "code",
   "execution_count": 50,
   "metadata": {},
   "outputs": [
    {
     "name": "stderr",
     "output_type": "stream",
     "text": [
      "C:\\Users\\Jayesh\\AppData\\Local\\Temp\\ipykernel_19224\\2918756549.py:13: SettingWithCopyWarning: \n",
      "A value is trying to be set on a copy of a slice from a DataFrame\n",
      "\n",
      "See the caveats in the documentation: https://pandas.pydata.org/pandas-docs/stable/user_guide/indexing.html#returning-a-view-versus-a-copy\n",
      "  df2['ride_duration'][i] = x\n"
     ]
    }
   ],
   "source": [
    "\n",
    "df2['duration'] = (df2['ended_at'] - df2['started_at'])     #calculates duration in days hh:mm:ss format\n",
    "df2['ride_duration'] = (df2['duration'].dt.total_seconds()) #converts duration into minutes\n",
    "\n",
    "for i in range(len(df2['ride_duration'])):\n",
    "    m, s = divmod(int(df2['ride_duration'][i]), 60)\n",
    "    h, m = divmod(m, 60)\n",
    "    x = f'{h:d}:{m:02d}:{s:02d}'\n",
    "    if x[0:2] == '0:' or x[0:2] == '1:' or x[0:2] == '2:' or x[0:2] == '3:' or x[0:2] == '4:' or x[0:2] == '5:' or x[0:2] == '6:' or x[0:2] == '7:' or x[0:2] == '8:' or x[0:2] == '9:'  :\n",
    "        x = '0' + x\n",
    "    df2['ride_duration'][i] = x\n",
    "\n",
    "\n",
    "\n"
   ]
  },
  {
   "cell_type": "code",
   "execution_count": 51,
   "metadata": {},
   "outputs": [],
   "source": [
    "df2.drop(['duration'],axis='columns',inplace=True)"
   ]
  },
  {
   "attachments": {},
   "cell_type": "markdown",
   "metadata": {},
   "source": [
    "Next we check whether the new **ride_duration** column was created successfully"
   ]
  },
  {
   "cell_type": "code",
   "execution_count": 52,
   "metadata": {},
   "outputs": [
    {
     "data": {
      "text/html": [
       "<div>\n",
       "<style scoped>\n",
       "    .dataframe tbody tr th:only-of-type {\n",
       "        vertical-align: middle;\n",
       "    }\n",
       "\n",
       "    .dataframe tbody tr th {\n",
       "        vertical-align: top;\n",
       "    }\n",
       "\n",
       "    .dataframe thead th {\n",
       "        text-align: right;\n",
       "    }\n",
       "</style>\n",
       "<table border=\"1\" class=\"dataframe\">\n",
       "  <thead>\n",
       "    <tr style=\"text-align: right;\">\n",
       "      <th></th>\n",
       "      <th>ride_id</th>\n",
       "      <th>rideable_type</th>\n",
       "      <th>started_at</th>\n",
       "      <th>ended_at</th>\n",
       "      <th>start_station_name</th>\n",
       "      <th>start_station_id</th>\n",
       "      <th>end_station_name</th>\n",
       "      <th>end_station_id</th>\n",
       "      <th>start_lat</th>\n",
       "      <th>start_lng</th>\n",
       "      <th>end_lat</th>\n",
       "      <th>end_lng</th>\n",
       "      <th>member_casual</th>\n",
       "      <th>start_weekday</th>\n",
       "      <th>same_day_ride</th>\n",
       "      <th>ride_duration</th>\n",
       "    </tr>\n",
       "  </thead>\n",
       "  <tbody>\n",
       "    <tr>\n",
       "      <th>0</th>\n",
       "      <td>EC2DE40644C6B0F4</td>\n",
       "      <td>classic_bike</td>\n",
       "      <td>2022-05-23 23:06:58</td>\n",
       "      <td>2022-05-23 23:40:19</td>\n",
       "      <td>Wabash Ave &amp; Grand Ave</td>\n",
       "      <td>TA1307000117</td>\n",
       "      <td>Halsted St &amp; Roscoe St</td>\n",
       "      <td>TA1309000025</td>\n",
       "      <td>41.891466</td>\n",
       "      <td>-87.626761</td>\n",
       "      <td>41.943670</td>\n",
       "      <td>-87.648950</td>\n",
       "      <td>member</td>\n",
       "      <td>Monday</td>\n",
       "      <td>Yes</td>\n",
       "      <td>00:33:21</td>\n",
       "    </tr>\n",
       "    <tr>\n",
       "      <th>1</th>\n",
       "      <td>1C31AD03897EE385</td>\n",
       "      <td>classic_bike</td>\n",
       "      <td>2022-05-11 08:53:28</td>\n",
       "      <td>2022-05-11 09:31:22</td>\n",
       "      <td>DuSable Lake Shore Dr &amp; Monroe St</td>\n",
       "      <td>13300</td>\n",
       "      <td>Field Blvd &amp; South Water St</td>\n",
       "      <td>15534</td>\n",
       "      <td>41.880958</td>\n",
       "      <td>-87.616743</td>\n",
       "      <td>41.886349</td>\n",
       "      <td>-87.617517</td>\n",
       "      <td>member</td>\n",
       "      <td>Wednesday</td>\n",
       "      <td>Yes</td>\n",
       "      <td>00:37:54</td>\n",
       "    </tr>\n",
       "    <tr>\n",
       "      <th>2</th>\n",
       "      <td>1542FBEC830415CF</td>\n",
       "      <td>classic_bike</td>\n",
       "      <td>2022-05-26 18:36:28</td>\n",
       "      <td>2022-05-26 18:58:18</td>\n",
       "      <td>Clinton St &amp; Madison St</td>\n",
       "      <td>TA1305000032</td>\n",
       "      <td>Wood St &amp; Milwaukee Ave</td>\n",
       "      <td>13221</td>\n",
       "      <td>41.882242</td>\n",
       "      <td>-87.641066</td>\n",
       "      <td>41.907655</td>\n",
       "      <td>-87.672552</td>\n",
       "      <td>member</td>\n",
       "      <td>Thursday</td>\n",
       "      <td>Yes</td>\n",
       "      <td>00:21:50</td>\n",
       "    </tr>\n",
       "    <tr>\n",
       "      <th>3</th>\n",
       "      <td>6FF59852924528F8</td>\n",
       "      <td>classic_bike</td>\n",
       "      <td>2022-05-10 07:30:07</td>\n",
       "      <td>2022-05-10 07:38:49</td>\n",
       "      <td>Clinton St &amp; Madison St</td>\n",
       "      <td>TA1305000032</td>\n",
       "      <td>Clark St &amp; Randolph St</td>\n",
       "      <td>TA1305000030</td>\n",
       "      <td>41.882242</td>\n",
       "      <td>-87.641066</td>\n",
       "      <td>41.884576</td>\n",
       "      <td>-87.631890</td>\n",
       "      <td>member</td>\n",
       "      <td>Tuesday</td>\n",
       "      <td>Yes</td>\n",
       "      <td>00:08:42</td>\n",
       "    </tr>\n",
       "    <tr>\n",
       "      <th>4</th>\n",
       "      <td>483C52CAAE12E3AC</td>\n",
       "      <td>classic_bike</td>\n",
       "      <td>2022-05-10 17:31:56</td>\n",
       "      <td>2022-05-10 17:36:57</td>\n",
       "      <td>Clinton St &amp; Madison St</td>\n",
       "      <td>TA1305000032</td>\n",
       "      <td>Morgan St &amp; Lake St</td>\n",
       "      <td>TA1306000015</td>\n",
       "      <td>41.882242</td>\n",
       "      <td>-87.641066</td>\n",
       "      <td>41.885779</td>\n",
       "      <td>-87.651025</td>\n",
       "      <td>member</td>\n",
       "      <td>Tuesday</td>\n",
       "      <td>Yes</td>\n",
       "      <td>00:05:01</td>\n",
       "    </tr>\n",
       "  </tbody>\n",
       "</table>\n",
       "</div>"
      ],
      "text/plain": [
       "            ride_id rideable_type          started_at            ended_at  \\\n",
       "0  EC2DE40644C6B0F4  classic_bike 2022-05-23 23:06:58 2022-05-23 23:40:19   \n",
       "1  1C31AD03897EE385  classic_bike 2022-05-11 08:53:28 2022-05-11 09:31:22   \n",
       "2  1542FBEC830415CF  classic_bike 2022-05-26 18:36:28 2022-05-26 18:58:18   \n",
       "3  6FF59852924528F8  classic_bike 2022-05-10 07:30:07 2022-05-10 07:38:49   \n",
       "4  483C52CAAE12E3AC  classic_bike 2022-05-10 17:31:56 2022-05-10 17:36:57   \n",
       "\n",
       "                  start_station_name start_station_id  \\\n",
       "0             Wabash Ave & Grand Ave     TA1307000117   \n",
       "1  DuSable Lake Shore Dr & Monroe St            13300   \n",
       "2            Clinton St & Madison St     TA1305000032   \n",
       "3            Clinton St & Madison St     TA1305000032   \n",
       "4            Clinton St & Madison St     TA1305000032   \n",
       "\n",
       "              end_station_name end_station_id  start_lat  start_lng  \\\n",
       "0       Halsted St & Roscoe St   TA1309000025  41.891466 -87.626761   \n",
       "1  Field Blvd & South Water St          15534  41.880958 -87.616743   \n",
       "2      Wood St & Milwaukee Ave          13221  41.882242 -87.641066   \n",
       "3       Clark St & Randolph St   TA1305000030  41.882242 -87.641066   \n",
       "4          Morgan St & Lake St   TA1306000015  41.882242 -87.641066   \n",
       "\n",
       "     end_lat    end_lng member_casual start_weekday same_day_ride  \\\n",
       "0  41.943670 -87.648950        member        Monday           Yes   \n",
       "1  41.886349 -87.617517        member     Wednesday           Yes   \n",
       "2  41.907655 -87.672552        member      Thursday           Yes   \n",
       "3  41.884576 -87.631890        member       Tuesday           Yes   \n",
       "4  41.885779 -87.651025        member       Tuesday           Yes   \n",
       "\n",
       "  ride_duration  \n",
       "0      00:33:21  \n",
       "1      00:37:54  \n",
       "2      00:21:50  \n",
       "3      00:08:42  \n",
       "4      00:05:01  "
      ]
     },
     "execution_count": 52,
     "metadata": {},
     "output_type": "execute_result"
    }
   ],
   "source": [
    "df2.head()"
   ]
  },
  {
   "attachments": {},
   "cell_type": "markdown",
   "metadata": {},
   "source": [
    "We then drop the **start_lat, start_lng, end_lat, end_lng** columns as they do not play a role in the analysis"
   ]
  },
  {
   "cell_type": "code",
   "execution_count": 54,
   "metadata": {},
   "outputs": [],
   "source": [
    "df2.drop(['start_lat','start_lng','end_lat','end_lng'],axis='columns',inplace=True)         #not required"
   ]
  },
  {
   "attachments": {},
   "cell_type": "markdown",
   "metadata": {},
   "source": [
    "We also reorder/ rearrange the columns in the dataframe"
   ]
  },
  {
   "cell_type": "code",
   "execution_count": 36,
   "metadata": {},
   "outputs": [],
   "source": [
    "new_cols = ['ride_id','rideable_type','start_station_id','start_station_name','end_station_id','end_station_name','start_weekday','same_day_ride','started_at','ended_at','ride_duration','member_casual']\n",
    "df2 = df2.reindex(columns=new_cols)             #rearranged"
   ]
  },
  {
   "attachments": {},
   "cell_type": "markdown",
   "metadata": {},
   "source": [
    "The columns are then renamed for simplicity"
   ]
  },
  {
   "cell_type": "code",
   "execution_count": 55,
   "metadata": {},
   "outputs": [],
   "source": [
    "df2 = df2.rename(columns={'rideable_type':'bike_type',\n",
    "                          'start_station_id':'start_id',\n",
    "                          'end_station_id':'end_id',\n",
    "                          'start_station_name':'start_station',\n",
    "                          'end_station_name':'end_station',\n",
    "                          'member_casual':'member_type'})               #renamed everything required"
   ]
  },
  {
   "attachments": {},
   "cell_type": "markdown",
   "metadata": {},
   "source": [
    "We check to see if all the changes were applied successfully"
   ]
  },
  {
   "cell_type": "code",
   "execution_count": 7,
   "metadata": {},
   "outputs": [
    {
     "data": {
      "text/html": [
       "<div>\n",
       "<style scoped>\n",
       "    .dataframe tbody tr th:only-of-type {\n",
       "        vertical-align: middle;\n",
       "    }\n",
       "\n",
       "    .dataframe tbody tr th {\n",
       "        vertical-align: top;\n",
       "    }\n",
       "\n",
       "    .dataframe thead th {\n",
       "        text-align: right;\n",
       "    }\n",
       "</style>\n",
       "<table border=\"1\" class=\"dataframe\">\n",
       "  <thead>\n",
       "    <tr style=\"text-align: right;\">\n",
       "      <th></th>\n",
       "      <th>ride_id</th>\n",
       "      <th>bike_type</th>\n",
       "      <th>started_at</th>\n",
       "      <th>ended_at</th>\n",
       "      <th>start_station</th>\n",
       "      <th>start_id</th>\n",
       "      <th>end_station</th>\n",
       "      <th>end_id</th>\n",
       "      <th>member_type</th>\n",
       "      <th>start_weekday</th>\n",
       "      <th>same_day_ride</th>\n",
       "      <th>ride_duration</th>\n",
       "    </tr>\n",
       "  </thead>\n",
       "  <tbody>\n",
       "    <tr>\n",
       "      <th>0</th>\n",
       "      <td>EC2DE40644C6B0F4</td>\n",
       "      <td>classic_bike</td>\n",
       "      <td>2022-05-23 23:06:58</td>\n",
       "      <td>2022-05-23 23:40:19</td>\n",
       "      <td>Wabash Ave &amp; Grand Ave</td>\n",
       "      <td>TA1307000117</td>\n",
       "      <td>Halsted St &amp; Roscoe St</td>\n",
       "      <td>TA1309000025</td>\n",
       "      <td>member</td>\n",
       "      <td>Monday</td>\n",
       "      <td>Yes</td>\n",
       "      <td>00:33:21</td>\n",
       "    </tr>\n",
       "    <tr>\n",
       "      <th>1</th>\n",
       "      <td>1C31AD03897EE385</td>\n",
       "      <td>classic_bike</td>\n",
       "      <td>2022-05-11 08:53:28</td>\n",
       "      <td>2022-05-11 09:31:22</td>\n",
       "      <td>DuSable Lake Shore Dr &amp; Monroe St</td>\n",
       "      <td>13300</td>\n",
       "      <td>Field Blvd &amp; South Water St</td>\n",
       "      <td>15534</td>\n",
       "      <td>member</td>\n",
       "      <td>Wednesday</td>\n",
       "      <td>Yes</td>\n",
       "      <td>00:37:54</td>\n",
       "    </tr>\n",
       "    <tr>\n",
       "      <th>2</th>\n",
       "      <td>1542FBEC830415CF</td>\n",
       "      <td>classic_bike</td>\n",
       "      <td>2022-05-26 18:36:28</td>\n",
       "      <td>2022-05-26 18:58:18</td>\n",
       "      <td>Clinton St &amp; Madison St</td>\n",
       "      <td>TA1305000032</td>\n",
       "      <td>Wood St &amp; Milwaukee Ave</td>\n",
       "      <td>13221</td>\n",
       "      <td>member</td>\n",
       "      <td>Thursday</td>\n",
       "      <td>Yes</td>\n",
       "      <td>00:21:50</td>\n",
       "    </tr>\n",
       "    <tr>\n",
       "      <th>3</th>\n",
       "      <td>6FF59852924528F8</td>\n",
       "      <td>classic_bike</td>\n",
       "      <td>2022-05-10 07:30:07</td>\n",
       "      <td>2022-05-10 07:38:49</td>\n",
       "      <td>Clinton St &amp; Madison St</td>\n",
       "      <td>TA1305000032</td>\n",
       "      <td>Clark St &amp; Randolph St</td>\n",
       "      <td>TA1305000030</td>\n",
       "      <td>member</td>\n",
       "      <td>Tuesday</td>\n",
       "      <td>Yes</td>\n",
       "      <td>00:08:42</td>\n",
       "    </tr>\n",
       "    <tr>\n",
       "      <th>4</th>\n",
       "      <td>483C52CAAE12E3AC</td>\n",
       "      <td>classic_bike</td>\n",
       "      <td>2022-05-10 17:31:56</td>\n",
       "      <td>2022-05-10 17:36:57</td>\n",
       "      <td>Clinton St &amp; Madison St</td>\n",
       "      <td>TA1305000032</td>\n",
       "      <td>Morgan St &amp; Lake St</td>\n",
       "      <td>TA1306000015</td>\n",
       "      <td>member</td>\n",
       "      <td>Tuesday</td>\n",
       "      <td>Yes</td>\n",
       "      <td>00:05:01</td>\n",
       "    </tr>\n",
       "  </tbody>\n",
       "</table>\n",
       "</div>"
      ],
      "text/plain": [
       "            ride_id     bike_type           started_at             ended_at  \\\n",
       "0  EC2DE40644C6B0F4  classic_bike  2022-05-23 23:06:58  2022-05-23 23:40:19   \n",
       "1  1C31AD03897EE385  classic_bike  2022-05-11 08:53:28  2022-05-11 09:31:22   \n",
       "2  1542FBEC830415CF  classic_bike  2022-05-26 18:36:28  2022-05-26 18:58:18   \n",
       "3  6FF59852924528F8  classic_bike  2022-05-10 07:30:07  2022-05-10 07:38:49   \n",
       "4  483C52CAAE12E3AC  classic_bike  2022-05-10 17:31:56  2022-05-10 17:36:57   \n",
       "\n",
       "                       start_station      start_id  \\\n",
       "0             Wabash Ave & Grand Ave  TA1307000117   \n",
       "1  DuSable Lake Shore Dr & Monroe St         13300   \n",
       "2            Clinton St & Madison St  TA1305000032   \n",
       "3            Clinton St & Madison St  TA1305000032   \n",
       "4            Clinton St & Madison St  TA1305000032   \n",
       "\n",
       "                   end_station        end_id member_type start_weekday  \\\n",
       "0       Halsted St & Roscoe St  TA1309000025      member        Monday   \n",
       "1  Field Blvd & South Water St         15534      member     Wednesday   \n",
       "2      Wood St & Milwaukee Ave         13221      member      Thursday   \n",
       "3       Clark St & Randolph St  TA1305000030      member       Tuesday   \n",
       "4          Morgan St & Lake St  TA1306000015      member       Tuesday   \n",
       "\n",
       "  same_day_ride ride_duration  \n",
       "0           Yes      00:33:21  \n",
       "1           Yes      00:37:54  \n",
       "2           Yes      00:21:50  \n",
       "3           Yes      00:08:42  \n",
       "4           Yes      00:05:01  "
      ]
     },
     "execution_count": 7,
     "metadata": {},
     "output_type": "execute_result"
    }
   ],
   "source": [
    "df2.head()"
   ]
  },
  {
   "attachments": {},
   "cell_type": "markdown",
   "metadata": {},
   "source": [
    "The data is cleaned, manipulated and processed as required and is ready for analysis. We save this cleaned data to a new csv file."
   ]
  },
  {
   "cell_type": "code",
   "execution_count": 57,
   "metadata": {},
   "outputs": [],
   "source": [
    "df2.to_csv(\"combined_data_final.csv\", index=False)"
   ]
  },
  {
   "attachments": {},
   "cell_type": "markdown",
   "metadata": {},
   "source": [
    "### **STEP 4: ANALYSIS**  \n",
    "In this phase we perform descriptive analysis to gain insights"
   ]
  },
  {
   "attachments": {},
   "cell_type": "markdown",
   "metadata": {},
   "source": [
    "We find out how many rides were completed on the same day and how many went beyond"
   ]
  },
  {
   "cell_type": "code",
   "execution_count": 17,
   "metadata": {},
   "outputs": [
    {
     "data": {
      "text/plain": [
       "Yes    4512032\n",
       "No       21897\n",
       "Name: same_day_ride, dtype: int64"
      ]
     },
     "execution_count": 17,
     "metadata": {},
     "output_type": "execute_result"
    }
   ],
   "source": [
    "df2.same_day_ride.value_counts()"
   ]
  },
  {
   "cell_type": "code",
   "execution_count": 18,
   "metadata": {},
   "outputs": [
    {
     "data": {
      "text/plain": [
       "same_day_ride  start_weekday\n",
       "No             Saturday           6229\n",
       "               Friday             4664\n",
       "               Thursday           2643\n",
       "               Sunday             2545\n",
       "               Wednesday          2106\n",
       "               Tuesday            1871\n",
       "               Monday             1839\n",
       "Yes            Saturday         703479\n",
       "               Thursday         675428\n",
       "               Wednesday        650908\n",
       "               Friday           642037\n",
       "               Tuesday          636127\n",
       "               Sunday           609752\n",
       "               Monday           594301\n",
       "Name: start_weekday, dtype: int64"
      ]
     },
     "execution_count": 18,
     "metadata": {},
     "output_type": "execute_result"
    }
   ],
   "source": [
    "df2.groupby('same_day_ride').start_weekday.value_counts()"
   ]
  },
  {
   "attachments": {},
   "cell_type": "markdown",
   "metadata": {},
   "source": [
    "We find out how many rides ended at the same station as they started"
   ]
  },
  {
   "cell_type": "code",
   "execution_count": 19,
   "metadata": {},
   "outputs": [
    {
     "data": {
      "text/plain": [
       "False    4226391\n",
       "True      307538\n",
       "dtype: int64"
      ]
     },
     "execution_count": 19,
     "metadata": {},
     "output_type": "execute_result"
    }
   ],
   "source": [
    "(df2.start_id == df2.end_id).value_counts()"
   ]
  },
  {
   "attachments": {},
   "cell_type": "markdown",
   "metadata": {},
   "source": [
    "As the average ride duration cannot be found for the **ride_duration** columns which is in the format - hh:mm:ss, we create a column to represent the ride duration in minutes"
   ]
  },
  {
   "cell_type": "code",
   "execution_count": 20,
   "metadata": {},
   "outputs": [],
   "source": [
    "df2['duration'] = (df2['ended_at'] - df2['started_at'])     #calculates duration in days h:m:s format\n",
    "df2['ride_duration (minutes)'] = (df2['duration'].dt.total_seconds()/60)       \n",
    "df2.drop('duration',axis='columns',inplace=True)\n"
   ]
  },
  {
   "attachments": {},
   "cell_type": "markdown",
   "metadata": {},
   "source": [
    "We start by finding the maximum and minimum ride duration in both formats"
   ]
  },
  {
   "cell_type": "code",
   "execution_count": 21,
   "metadata": {},
   "outputs": [
    {
     "data": {
      "text/plain": [
       "max    32035.45\n",
       "min        0.00\n",
       "Name: ride_duration (minutes), dtype: float64"
      ]
     },
     "execution_count": 21,
     "metadata": {},
     "output_type": "execute_result"
    }
   ],
   "source": [
    "df2['ride_duration (minutes)'].agg(['max','min'])       "
   ]
  },
  {
   "cell_type": "code",
   "execution_count": 22,
   "metadata": {},
   "outputs": [
    {
     "data": {
      "text/plain": [
       "max    80:48:21\n",
       "min    00:00:00\n",
       "Name: ride_duration, dtype: object"
      ]
     },
     "execution_count": 22,
     "metadata": {},
     "output_type": "execute_result"
    }
   ],
   "source": [
    "df2['ride_duration'].agg(['max','min']) #this ride duration is in the format hh:mm:ss"
   ]
  },
  {
   "attachments": {},
   "cell_type": "markdown",
   "metadata": {},
   "source": [
    "Next we find the overall average ride duration in minutes which can be converted and represented in hh:mm:ss format as well"
   ]
  },
  {
   "cell_type": "code",
   "execution_count": 93,
   "metadata": {},
   "outputs": [
    {
     "data": {
      "text/plain": [
       "16.560940981504842"
      ]
     },
     "execution_count": 93,
     "metadata": {},
     "output_type": "execute_result"
    }
   ],
   "source": [
    "df2['ride_duration (minutes)'].mean()"
   ]
  },
  {
   "cell_type": "code",
   "execution_count": 23,
   "metadata": {},
   "outputs": [
    {
     "data": {
      "text/plain": [
       "'00:16:33'"
      ]
     },
     "execution_count": 23,
     "metadata": {},
     "output_type": "execute_result"
    }
   ],
   "source": [
    "\n",
    "seconds = df2['ride_duration (minutes)'].mean()*60\n",
    "m, s = divmod(int(seconds), 60)\n",
    "h, m = divmod(m, 60)\n",
    "x = f'{h:d}:{m:02d}:{s:02d}'\n",
    "if x[0:2] == '0:':\n",
    "    x = '0' + x\n",
    "x                               #average ride time"
   ]
  },
  {
   "attachments": {},
   "cell_type": "markdown",
   "metadata": {},
   "source": [
    "We discover the most frequent weekday for rides using the following line of code"
   ]
  },
  {
   "cell_type": "code",
   "execution_count": 25,
   "metadata": {},
   "outputs": [
    {
     "data": {
      "text/plain": [
       "0    Saturday\n",
       "Name: start_weekday, dtype: object"
      ]
     },
     "execution_count": 25,
     "metadata": {},
     "output_type": "execute_result"
    }
   ],
   "source": [
    "df2.start_weekday.mode()"
   ]
  },
  {
   "attachments": {},
   "cell_type": "markdown",
   "metadata": {},
   "source": [
    "Next we find out the average ride duration by member types and by weekdays"
   ]
  },
  {
   "cell_type": "code",
   "execution_count": 26,
   "metadata": {},
   "outputs": [
    {
     "data": {
      "text/plain": [
       "member_type\n",
       "casual    23.154423\n",
       "member    12.255414\n",
       "Name: ride_duration (minutes), dtype: float64"
      ]
     },
     "execution_count": 26,
     "metadata": {},
     "output_type": "execute_result"
    }
   ],
   "source": [
    "df2.groupby('member_type')['ride_duration (minutes)'].mean()"
   ]
  },
  {
   "cell_type": "code",
   "execution_count": 27,
   "metadata": {},
   "outputs": [
    {
     "data": {
      "text/plain": [
       "start_weekday\n",
       "Friday       16.081574\n",
       "Monday       15.976973\n",
       "Saturday     19.908704\n",
       "Sunday       19.978438\n",
       "Thursday     14.926876\n",
       "Tuesday      14.608480\n",
       "Wednesday    14.330291\n",
       "Name: ride_duration (minutes), dtype: float64"
      ]
     },
     "execution_count": 27,
     "metadata": {},
     "output_type": "execute_result"
    }
   ],
   "source": [
    "df2.groupby('start_weekday')['ride_duration (minutes)'].mean()"
   ]
  },
  {
   "attachments": {},
   "cell_type": "markdown",
   "metadata": {},
   "source": [
    "**Findings:**  \n",
    "\n",
    "• **4512032** rides were completed on the **same day** while **21897** were not and went **beyond 1 day**  \n",
    "• **307538** rides **ended at the same station** as they started  \n",
    "• The **max ride duration** was of **32035.45 minutes** or **80:48:21 hours**  \n",
    "• The overall **average ride duration** was **16.56 minutes**  \n",
    "• The **most frequent weekday** when rides were used was **'Saturday'**  \n",
    "• The **average ride duration** for **casual members** is **23.154423 minutes** while for **annual members** is **12.255414 minutes**"
   ]
  },
  {
   "attachments": {},
   "cell_type": "markdown",
   "metadata": {},
   "source": [
    "### **STEP 5: SHARE**\n",
    "In the Share phase, we create visualizations and communicate our findings based on the insights gained during analysis."
   ]
  },
  {
   "cell_type": "code",
   "execution_count": 48,
   "metadata": {},
   "outputs": [],
   "source": [
    "plt.style.use('seaborn')"
   ]
  },
  {
   "cell_type": "code",
   "execution_count": 83,
   "metadata": {},
   "outputs": [
    {
     "data": {
      "text/plain": [
       "Text(0.5, 1.0, 'Rides distribution by members')"
      ]
     },
     "execution_count": 83,
     "metadata": {},
     "output_type": "execute_result"
    },
    {
     "data": {
      "image/png": "[encoded data removed]",
      "text/plain": [
       "<Figure size 1200x600 with 1 Axes>"
      ]
     },
     "metadata": {},
     "output_type": "display_data"
    }
   ],
   "source": [
    "plt.figure(figsize = (12,6),dpi=100)\n",
    "colors = sns.color_palette(\"hls\",8)\n",
    "plt.pie(df2.member_type.value_counts() .reset_index()['member_type'],labels = ['',''],autopct='%1.1f%%',colors=['#0075A4','#F3BC00'],startangle=90);\n",
    "plt.legend(labels = df2.member_type.value_counts().reset_index()['index'])\n",
    "plt.title('Rides distribution by members')"
   ]
  },
  {
   "attachments": {},
   "cell_type": "markdown",
   "metadata": {},
   "source": [
    "There are about **60.5% of annual members** who have used the ride service compared to the **39.5% of casual members**"
   ]
  },
  {
   "cell_type": "code",
   "execution_count": 81,
   "metadata": {},
   "outputs": [
    {
     "data": {
      "text/plain": [
       "Text(0.5, 1.0, 'Rides distribution by Bike type')"
      ]
     },
     "execution_count": 81,
     "metadata": {},
     "output_type": "execute_result"
    },
    {
     "data": {
      "image/png": "[encoded data removed]",
      "text/plain": [
       "<Figure size 1200x600 with 1 Axes>"
      ]
     },
     "metadata": {},
     "output_type": "display_data"
    }
   ],
   "source": [
    "plt.figure(figsize = (12,6),dpi=100)\n",
    "colors = sns.color_palette(\"hls\",8)\n",
    "plt.pie(df2.bike_type.value_counts().reset_index()['bike_type'],labels = ['','',''],autopct='%1.1f%%',colors=['#0075A4','#F3BC00','#00AF82'],startangle=90,textprops={'fontsize': 12});\n",
    "plt.legend(labels = df2.bike_type.value_counts().reset_index()['index'],loc=4)\n",
    "plt.title('Rides distribution by Bike type')"
   ]
  },
  {
   "attachments": {},
   "cell_type": "markdown",
   "metadata": {},
   "source": [
    "This visualization indicates that **classic bikes** are primarily preferred and used followed by **electric bikes**. The least used type of bikes are **docked bikes**."
   ]
  },
  {
   "cell_type": "code",
   "execution_count": 30,
   "metadata": {},
   "outputs": [
    {
     "data": {
      "image/png": "[encoded data removed]",
      "text/plain": [
       "<Figure size 800x400 with 1 Axes>"
      ]
     },
     "metadata": {},
     "output_type": "display_data"
    }
   ],
   "source": [
    "fig,ax = plt.subplots(figsize = (8,4),dpi=100)\n",
    "ax = sns.countplot(data=df2,x='bike_type',hue='member_type',palette='viridis')\n",
    "ax.set(title='Types of bikes preferred by member types')\n",
    "ax.set(ylabel='No of bikes (in millions)')\n",
    "ax.grid()\n",
    "\n",
    "# sns.barplot(data=b,x='bike_type',y='count',color='orange')"
   ]
  },
  {
   "attachments": {},
   "cell_type": "markdown",
   "metadata": {},
   "source": [
    "This barplot indicates that majority of both casual as well as annual member prefer classic bikes followed by electric bikes. It should be noted that while some casual members use docked bikes to some extent, its use by annual member is close to none."
   ]
  },
  {
   "cell_type": "code",
   "execution_count": 31,
   "metadata": {},
   "outputs": [
    {
     "data": {
      "image/png": "[encoded data removed]",
      "text/plain": [
       "<Figure size 800x400 with 1 Axes>"
      ]
     },
     "metadata": {},
     "output_type": "display_data"
    }
   ],
   "source": [
    "test1 = df2[df2['same_day_ride'] == 'Yes'].groupby('member_type')['same_day_ride'].value_counts().reset_index(name='count')\n",
    "test1.drop('same_day_ride',axis='columns',inplace=True)\n",
    "fig,ax = plt.subplots(figsize=(8,4),dpi=100)\n",
    "ax = sns.barplot(x=test1['member_type'],y=test1['count'],palette='viridis',width=0.3)\n",
    "ax.set(ylabel='Same day rides')\n",
    "ax.set(title='Rides completed on same day by member types')\n",
    "ax.grid()"
   ]
  },
  {
   "attachments": {},
   "cell_type": "markdown",
   "metadata": {},
   "source": [
    "Annual members tend to complete majority of rides on the same day compared to casual members"
   ]
  },
  {
   "cell_type": "code",
   "execution_count": 32,
   "metadata": {},
   "outputs": [
    {
     "data": {
      "image/png": "[encoded data removed]",
      "text/plain": [
       "<Figure size 800x400 with 1 Axes>"
      ]
     },
     "metadata": {},
     "output_type": "display_data"
    }
   ],
   "source": [
    "test2 = df2.groupby('member_type')['ride_duration (minutes)'].mean().reset_index(name='Avg ride duration (in minutes)')\n",
    "fig,ax = plt.subplots(figsize=(8,4),dpi=100)\n",
    "ax = sns.barplot(x=test2['member_type'],y=test2['Avg ride duration (in minutes)'],palette='viridis',width=0.3)\n",
    "\n",
    "ax.set(title='Average ride duration by member types')\n",
    "ax.set(ylim = (0,30),autoscale_on=True)\n",
    "ax.grid()"
   ]
  },
  {
   "attachments": {},
   "cell_type": "markdown",
   "metadata": {},
   "source": [
    "On an average, casual members tend to have a higher ride duration compared to annual members."
   ]
  },
  {
   "cell_type": "code",
   "execution_count": 40,
   "metadata": {},
   "outputs": [
    {
     "data": {
      "text/plain": [
       "Text(0.5, 1.0, 'Rides by weekdays')"
      ]
     },
     "execution_count": 40,
     "metadata": {},
     "output_type": "execute_result"
    },
    {
     "data": {
      "image/png": "[encoded data removed]",
      "text/plain": [
       "<Figure size 1200x600 with 1 Axes>"
      ]
     },
     "metadata": {},
     "output_type": "display_data"
    }
   ],
   "source": [
    "plt.figure(figsize = (12,6),dpi=100)\n",
    "colors = sns.color_palette(\"hls\",8)\n",
    "plt.pie(df2.start_weekday.value_counts().reset_index()['start_weekday'],labels = df2.start_weekday.value_counts().reset_index()['index'],autopct='%1.1f%%',colors=colors);\n",
    "plt.title('Rides by weekdays')"
   ]
  },
  {
   "attachments": {},
   "cell_type": "markdown",
   "metadata": {},
   "source": [
    "The pie chart confirms the descriptive analysis of **'Saturday'** being the most frequent weekday for members to use ride services followed by **'Thursday'**. However the distribution is quite even amongst the other days inclusing Tuesday, Wednesday, Friday. Sundays and Mondays are the two weekdays having the least rides taken. One of the reasons may be - most Sundays being a holiday for majority of people & people may prefer a faster means of transportation on monday being the first day of the week."
   ]
  },
  {
   "cell_type": "code",
   "execution_count": 96,
   "metadata": {},
   "outputs": [
    {
     "data": {
      "text/plain": [
       "<Figure size 800x550 with 0 Axes>"
      ]
     },
     "execution_count": 96,
     "metadata": {},
     "output_type": "execute_result"
    },
    {
     "data": {
      "image/png": "[encoded data removed]",
      "text/plain": [
       "<Figure size 800x400 with 1 Axes>"
      ]
     },
     "metadata": {},
     "output_type": "display_data"
    },
    {
     "data": {
      "text/plain": [
       "<Figure size 800x550 with 0 Axes>"
      ]
     },
     "metadata": {},
     "output_type": "display_data"
    }
   ],
   "source": [
    "# sns.set_style(\"white\")\n",
    "# plt.style.use('fivethirtyeight')\n",
    "plt.figure(figsize=(8,4),dpi=100)\n",
    "a = df2.groupby('start_weekday')['ride_duration (minutes)'].mean().reset_index()['start_weekday']\n",
    "b = df2.groupby('start_weekday')['ride_duration (minutes)'].mean().reset_index()['ride_duration (minutes)']\n",
    "gfg = sns.lineplot(data = df2,x =a,y=b,linewidth=3)\n",
    "# gfg.set_ylim(10,2)\n",
    "plt.figure(dpi=100)"
   ]
  },
  {
   "attachments": {},
   "cell_type": "markdown",
   "metadata": {},
   "source": [
    "The line plots indicates the average ride duration by weekdays with Saturdays and Sundays being the weekdays with an higher average compared to Wednesday which has the lowest average."
   ]
  },
  {
   "attachments": {},
   "cell_type": "markdown",
   "metadata": {},
   "source": [
    "### **STEP 6: ACT**\n",
    "\n",
    "In the final phase, we will be providing our top 3 recommendations based on the analysis.\n",
    "\n",
    "\n",
    "**Leverage Weekend Ridership:** The analysis reveals a significant uptake in ride services on Saturdays. To capitalize on this trend, Cyclistic should launch targeted weekend promotions. By offering exclusive deals, discounts, or special packages specifically for weekend riders, the company can incentivize both casual and annual members to use the service more frequently on Saturdays. This strategic approach can attract new riders, increase engagement, and potentially convert more casual members into annual members.\n",
    "\n",
    "**Optimize Pricing Plans for Different Usage Patterns:** The data shows that casual members tend to have longer ride durations on average compared to annual members. To cater to these distinct usage patterns, Cyclistic should consider implementing dynamic pricing strategies. For instance, introduce tiered pricing options that incentivize casual members to take longer rides by offering discounted rates for extended rental durations. This approach not only encourages casual members to enjoy longer rides but also increases their likelihood of considering an annual membership, which offers further cost savings and benefits.\n",
    "\n",
    "**Strengthen Annual Member Retention Strategies:** Given the higher proportion of annual members, it is crucial for Cyclistic to focus on retaining these valuable customers. Utilize the data to identify factors that contribute to member churn or non-renewals. Conduct surveys, collect feedback, and analyze usage patterns to gain insights into member preferences and expectations. Based on the findings, Cyclistic should develop personalized retention strategies for annual members, such as offering exclusive rewards, tailored promotions, or additional perks. By nurturing the loyalty of existing annual members, Cyclistic can improve retention rates, maximize revenue from this customer segment, and drive long-term growth."
   ]
  }
 ],
 "metadata": {
  "kernelspec": {
   "display_name": "Python 3",
   "language": "python",
   "name": "python3"
  },
  "language_info": {
   "codemirror_mode": {
    "name": "ipython",
    "version": 3
   },
   "file_extension": ".py",
   "mimetype": "text/x-python",
   "name": "python",
   "nbconvert_exporter": "python",
   "pygments_lexer": "ipython3",
   "version": "3.10.0"
  },
  "orig_nbformat": 4
 },
 "nbformat": 4,
 "nbformat_minor": 2
}
